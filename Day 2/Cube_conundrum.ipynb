{
 "cells": [
  {
   "cell_type": "markdown",
   "metadata": {},
   "source": [
    "Day 2: https://adventofcode.com/2023/day/2"
   ]
  },
  {
   "cell_type": "code",
   "execution_count": 37,
   "metadata": {},
   "outputs": [],
   "source": [
    "import re\n",
    "\n",
    "with open('input.txt') as file:\n",
    "    lines = [line.rstrip() for line in file] #read input line by line\n",
    "    \n",
    "#Remove the 'Game' part and split each line (game) into separate draws\n",
    "lines = [re.sub(r'^.*?:', '', line).split(';') for line in lines]\n"
   ]
  },
  {
   "cell_type": "code",
   "execution_count": 98,
   "metadata": {},
   "outputs": [
    {
     "name": "stdout",
     "output_type": "stream",
     "text": [
      "2632\n"
     ]
    }
   ],
   "source": [
    "#for each game, separate the draws and check if any are possible\n",
    "\n",
    "colour_dict = { #for checking\n",
    "    'red':12,\n",
    "    'green':13,\n",
    "    'blue':14,\n",
    "}\n",
    "\n",
    "id_sum = 0\n",
    "\n",
    "for i, line in enumerate(lines):\n",
    "    is_possible = 0\n",
    "    for draw in line:\n",
    "        cubes = draw.split(',') #separate into number of cubes drawn in a single draw\n",
    "        for cube in cubes: #go through each cube draw and check if it is exceeds the dict values\n",
    "            number_colour = cube.split(' ') #separating number from the colour\n",
    "            if int(number_colour[1]) > colour_dict[number_colour[2]]:\n",
    "                is_possible = 1\n",
    "    \n",
    "    if is_possible == 0:\n",
    "        id_sum += i+1\n",
    "        \n",
    "print(id_sum)"
   ]
  },
  {
   "cell_type": "markdown",
   "metadata": {},
   "source": [
    "Part 2: find the lowest number of cubes necessary to make each game possible."
   ]
  },
  {
   "cell_type": "code",
   "execution_count": 114,
   "metadata": {},
   "outputs": [
    {
     "name": "stdout",
     "output_type": "stream",
     "text": [
      "69629\n"
     ]
    }
   ],
   "source": [
    "power_sum = 0\n",
    "for i, line in enumerate(lines):\n",
    "    red, blue, green = 0,0,0\n",
    "    for cubes in line:\n",
    "        for cube in cubes.split(','):\n",
    "            number_colour = cube.split(' ') #separate draws down to signle colour and amount again\n",
    "            #check for each colour\n",
    "            if number_colour[2] == 'red' and int(number_colour[1]) > red:\n",
    "                red = int(number_colour[1])\n",
    "            if number_colour[2] == 'blue' and int(number_colour[1]) > blue:\n",
    "                blue = int(number_colour[1])\n",
    "            if number_colour[2] == 'green' and int(number_colour[1]) > green:\n",
    "                green = int(number_colour[1])\n",
    "    power_sum+=red*green*blue\n",
    "\n",
    "print(power_sum)"
   ]
  },
  {
   "cell_type": "code",
   "execution_count": null,
   "metadata": {},
   "outputs": [],
   "source": []
  }
 ],
 "metadata": {
  "kernelspec": {
   "display_name": "base",
   "language": "python",
   "name": "python3"
  },
  "language_info": {
   "codemirror_mode": {
    "name": "ipython",
    "version": 3
   },
   "file_extension": ".py",
   "mimetype": "text/x-python",
   "name": "python",
   "nbconvert_exporter": "python",
   "pygments_lexer": "ipython3",
   "version": "3.11.5"
  }
 },
 "nbformat": 4,
 "nbformat_minor": 2
}
