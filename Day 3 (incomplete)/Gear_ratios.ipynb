{
 "cells": [
  {
   "cell_type": "code",
   "execution_count": 1,
   "metadata": {},
   "outputs": [],
   "source": [
    "with open('input.txt') as file:\n",
    "    lines = [line.rstrip() for line in file] #read input line by line"
   ]
  },
  {
   "cell_type": "code",
   "execution_count": 2,
   "metadata": {},
   "outputs": [
    {
     "name": "stdout",
     "output_type": "stream",
     "text": [
      "['426', '985', '40', '207', '841', '463', '633', '17', '384']\n",
      "['531', '125', '312', '895', '998', '945', '33', '353']\n",
      "['21', '727', '545', '80', '602', '272', '743']\n"
     ]
    }
   ],
   "source": [
    "import re\n",
    "\n",
    "for line in lines[:3]: #going through each line \n",
    "    numbers = re.findall(r'\\d+', line) #can find all the numbers in a line\n",
    "    \n",
    "#need a way to find the index i of the number in line x\n",
    "#need a way to then check if i is adjacent to a symbol in line x+-1 and position i"
   ]
  },
  {
   "cell_type": "code",
   "execution_count": null,
   "metadata": {},
   "outputs": [],
   "source": []
  }
 ],
 "metadata": {
  "kernelspec": {
   "display_name": "base",
   "language": "python",
   "name": "python3"
  },
  "language_info": {
   "codemirror_mode": {
    "name": "ipython",
    "version": 3
   },
   "file_extension": ".py",
   "mimetype": "text/x-python",
   "name": "python",
   "nbconvert_exporter": "python",
   "pygments_lexer": "ipython3",
   "version": "3.11.5"
  }
 },
 "nbformat": 4,
 "nbformat_minor": 2
}
