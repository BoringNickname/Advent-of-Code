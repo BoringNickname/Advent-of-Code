{
 "cells": [
  {
   "cell_type": "markdown",
   "metadata": {},
   "source": [
    "Original challenge: https://adventofcode.com/2023/day/1"
   ]
  },
  {
   "cell_type": "code",
   "execution_count": 41,
   "metadata": {},
   "outputs": [],
   "source": [
    "with open('Coordinates_input.txt') as file:\n",
    "    data = file.read().strip()"
   ]
  },
  {
   "cell_type": "code",
   "execution_count": 51,
   "metadata": {},
   "outputs": [
    {
     "name": "stdout",
     "output_type": "stream",
     "text": [
      "answer is 55816\n"
     ]
    }
   ],
   "source": [
    "import re \n",
    "\n",
    "split_lines = data.split('\\n') #split the string along line breaks\n",
    "numbers = [re.findall('\\d', x) for x in split_lines] #find numbers in each line using regex\n",
    "answer = sum(int(n[0]+n[-1]) for n in numbers) #sum up the concatenated numbers\n",
    "print(f'answer is {answer}')"
   ]
  },
  {
   "cell_type": "code",
   "execution_count": 53,
   "metadata": {},
   "outputs": [
    {
     "name": "stdout",
     "output_type": "stream",
     "text": [
      "answer is 54980\n"
     ]
    }
   ],
   "source": [
    "#replace the text with digit equivalents so that the previous code can be used\n",
    "\n",
    "data = (data.replace('one', 'one1one')\n",
    "         .replace('two', 'two2two')\n",
    "         .replace('three', 'three3three')\n",
    "         .replace('four', 'four4four')\n",
    "         .replace('five', 'five5five')\n",
    "         .replace('six', 'six6six')\n",
    "         .replace('seven', 'seven7seven')\n",
    "         .replace('eight', 'eight8eight')\n",
    "         .replace('nine', 'nine9nine')\n",
    "    )\n",
    "\n",
    "data = data.split('\\n')\n",
    "numbers = [re.findall('\\d', x) for x in data] #find numbers in each line using regex\n",
    "answer = sum(int(n[0]+n[-1]) for n in numbers) #sum up the concatenated numbers\n",
    "print(f'answer is {answer}')\n"
   ]
  },
  {
   "cell_type": "code",
   "execution_count": null,
   "metadata": {},
   "outputs": [],
   "source": []
  }
 ],
 "metadata": {
  "kernelspec": {
   "display_name": "Python 3",
   "language": "python",
   "name": "python3"
  },
  "language_info": {
   "codemirror_mode": {
    "name": "ipython",
    "version": 3
   },
   "file_extension": ".py",
   "mimetype": "text/x-python",
   "name": "python",
   "nbconvert_exporter": "python",
   "pygments_lexer": "ipython3",
   "version": "3.11.5"
  }
 },
 "nbformat": 4,
 "nbformat_minor": 2
}
