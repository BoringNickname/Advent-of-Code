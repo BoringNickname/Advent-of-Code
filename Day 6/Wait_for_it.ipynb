{
 "cells": [
  {
   "cell_type": "code",
   "execution_count": 22,
   "metadata": {},
   "outputs": [],
   "source": [
    "import re\n",
    "with open('input.txt') as file: #import file\n",
    "    data = file.read().strip().split('\\n')"
   ]
  },
  {
   "cell_type": "code",
   "execution_count": 47,
   "metadata": {},
   "outputs": [],
   "source": [
    "#define a function calculating all the possible ways to beat the record\n",
    "def possible_combos(time, distance):\n",
    "    combos = 0\n",
    "    for i in range(time):\n",
    "        if i*(time-i) > distance:\n",
    "            combos+=1\n",
    "    return combos"
   ]
  },
  {
   "cell_type": "code",
   "execution_count": 44,
   "metadata": {},
   "outputs": [],
   "source": [
    "times = re.findall('\\d+', data[0]) #import all the times \n",
    "distances = re.findall('\\d+', data[1]) #and distances"
   ]
  },
  {
   "cell_type": "code",
   "execution_count": 46,
   "metadata": {},
   "outputs": [
    {
     "name": "stdout",
     "output_type": "stream",
     "text": [
      "the answer is 1660968\n"
     ]
    }
   ],
   "source": [
    "multiplication = 1\n",
    "for i in range(len(times)):\n",
    "    multiplication*=possible_combos(int(times[i]), int(distances[i]))\n",
    "print(f'the answer is {multiplication}')"
   ]
  },
  {
   "cell_type": "markdown",
   "metadata": {},
   "source": [
    "Part 2"
   ]
  },
  {
   "cell_type": "code",
   "execution_count": 51,
   "metadata": {},
   "outputs": [
    {
     "name": "stdout",
     "output_type": "stream",
     "text": [
      "47986698 400121310111540\n",
      "26499773\n"
     ]
    }
   ],
   "source": [
    "time = ''.join(times)\n",
    "distance = ''.join(distances)\n",
    "\n",
    "print(possible_combos(int(time), int(distance)))"
   ]
  },
  {
   "cell_type": "code",
   "execution_count": null,
   "metadata": {},
   "outputs": [],
   "source": []
  }
 ],
 "metadata": {
  "kernelspec": {
   "display_name": "base",
   "language": "python",
   "name": "python3"
  },
  "language_info": {
   "codemirror_mode": {
    "name": "ipython",
    "version": 3
   },
   "file_extension": ".py",
   "mimetype": "text/x-python",
   "name": "python",
   "nbconvert_exporter": "python",
   "pygments_lexer": "ipython3",
   "version": "3.11.5"
  }
 },
 "nbformat": 4,
 "nbformat_minor": 2
}
